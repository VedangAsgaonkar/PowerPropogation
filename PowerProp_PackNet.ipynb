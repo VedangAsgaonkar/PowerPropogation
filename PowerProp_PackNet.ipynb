{
  "cells": [
    {
      "cell_type": "code",
      "execution_count": null,
      "metadata": {
        "id": "B9Jj8zzzpXjH"
      },
      "outputs": [],
      "source": [
        "import torch\n",
        "import torch.nn as nn\n",
        "import torchvision\n",
        "import torchvision.transforms as transforms"
      ]
    },
    {
      "cell_type": "code",
      "execution_count": null,
      "metadata": {
        "id": "YQFX4gARqdQL"
      },
      "outputs": [],
      "source": [
        "import numpy as np\n",
        "import matplotlib.pyplot as plt\n",
        "import pandas as pd\n",
        "import random\n",
        "import math"
      ]
    },
    {
      "cell_type": "code",
      "execution_count": null,
      "metadata": {
        "id": "oMpidlYI5qoI"
      },
      "outputs": [],
      "source": [
        "train_loaders = []\n",
        "test_loaders = []"
      ]
    },
    {
      "cell_type": "code",
      "execution_count": null,
      "metadata": {
        "colab": {
          "base_uri": "https://localhost:8080/",
          "height": 435,
          "referenced_widgets": [
            "cbd94fe0995144c190230c1e9383387a",
            "faee9bc5fad64e6d99dc461f5bf22422",
            "ff419fb13cd74987ae07005c9a8dd985",
            "7a852cd45fa94b47a36dc037d75c1260",
            "03ef03d2aba8467d91d6366c311a1c2d",
            "59e6a957589d4707b4f2c9bb881d6e7e",
            "54806da05e294637b45c3877be73e4e2",
            "778749c83d354aa99d85bb1abfbacc95",
            "bfb15b6b6a9d4ce9a5d0d56660872a27",
            "1b267fb995104d1682de59e088debc58",
            "2b4c5d2052394ad5bc61b45bccacb312",
            "b896b8d1fcbf48488f66b02e41630909",
            "7824d88c0ed74bd7bd4b2f5be38bb0f3",
            "3039a047b5c14264b7cd32b6dd8af4e9",
            "fff2f576b726494ab5fc0dbe24b9dabe",
            "7c5bf3c81a694f85a09ba56e1485d261",
            "9d25f30d85c041cfb015612d7da0b60c",
            "df5d24744c7242369c2e6e448a347276",
            "99d89e3f340646f18702177628480a43",
            "092c64f9e744437e83bfa1805da8f151",
            "fa93c55e6abd41c79179fc2d05104704",
            "31ad66210cf54ce5a28241a3b8ee0064",
            "ae7abc5714c14ccca0ff15c948a09672",
            "e6b55a56fbba4944a577b70ece1caee2",
            "71d2607fe8dd4e6bb73ddbaaf5ac7503",
            "340a4a82524f43cc96cd0eb008c98eda",
            "26ec4adac3514c8e901f653247395bcd",
            "4f11f716c4e74ff3af1585204dc59817",
            "2ebd6d5e1eb544b983e1136507b37a42",
            "40de14efe18641d9bb5a2d0e591da0a3",
            "fc6866b9af2945da84693052bdc40a08",
            "975eba9fbc874735b6909fa8899505d7",
            "a60bad8744f645c5b8cdd4bda6157f8c",
            "9e54314aaa254e4c905c7c7cdc5ec412",
            "a34693784c094fb19095c87b0e09084e",
            "a4e22288ed394aa0bd4692b752e69fd5",
            "dac7cee7859f449ebb989eff4deaac82",
            "91bbfe6c6b7e445d8701bb1fcb35f1b3",
            "1482eedd66cd43aab3682cff94e478bb",
            "cf7b6600f05d4ddd983adfda789f0940",
            "9bb33a5c4b0c4e0f9a5383a6ffed3d0e",
            "805c84619a60435ead820649d84d265d",
            "ab479c4c4e11468f852ba229db4e590d",
            "693aca54261b4133bad8a7f74cf119ad"
          ]
        },
        "id": "j1ioHAH7qkMs",
        "outputId": "65586fab-c839-4894-fb67-f82277e297b0"
      },
      "outputs": [
        {
          "name": "stdout",
          "output_type": "stream",
          "text": [
            "Downloading http://yann.lecun.com/exdb/mnist/train-images-idx3-ubyte.gz\n",
            "Downloading http://yann.lecun.com/exdb/mnist/train-images-idx3-ubyte.gz to data/MNIST/raw/train-images-idx3-ubyte.gz\n"
          ]
        },
        {
          "data": {
            "application/vnd.jupyter.widget-view+json": {
              "model_id": "cbd94fe0995144c190230c1e9383387a",
              "version_major": 2,
              "version_minor": 0
            },
            "text/plain": [
              "  0%|          | 0/9912422 [00:00<?, ?it/s]"
            ]
          },
          "metadata": {},
          "output_type": "display_data"
        },
        {
          "name": "stdout",
          "output_type": "stream",
          "text": [
            "Extracting data/MNIST/raw/train-images-idx3-ubyte.gz to data/MNIST/raw\n",
            "\n",
            "Downloading http://yann.lecun.com/exdb/mnist/train-labels-idx1-ubyte.gz\n",
            "Downloading http://yann.lecun.com/exdb/mnist/train-labels-idx1-ubyte.gz to data/MNIST/raw/train-labels-idx1-ubyte.gz\n"
          ]
        },
        {
          "data": {
            "application/vnd.jupyter.widget-view+json": {
              "model_id": "b896b8d1fcbf48488f66b02e41630909",
              "version_major": 2,
              "version_minor": 0
            },
            "text/plain": [
              "  0%|          | 0/28881 [00:00<?, ?it/s]"
            ]
          },
          "metadata": {},
          "output_type": "display_data"
        },
        {
          "name": "stdout",
          "output_type": "stream",
          "text": [
            "Extracting data/MNIST/raw/train-labels-idx1-ubyte.gz to data/MNIST/raw\n",
            "\n",
            "Downloading http://yann.lecun.com/exdb/mnist/t10k-images-idx3-ubyte.gz\n",
            "Downloading http://yann.lecun.com/exdb/mnist/t10k-images-idx3-ubyte.gz to data/MNIST/raw/t10k-images-idx3-ubyte.gz\n"
          ]
        },
        {
          "data": {
            "application/vnd.jupyter.widget-view+json": {
              "model_id": "ae7abc5714c14ccca0ff15c948a09672",
              "version_major": 2,
              "version_minor": 0
            },
            "text/plain": [
              "  0%|          | 0/1648877 [00:00<?, ?it/s]"
            ]
          },
          "metadata": {},
          "output_type": "display_data"
        },
        {
          "name": "stdout",
          "output_type": "stream",
          "text": [
            "Extracting data/MNIST/raw/t10k-images-idx3-ubyte.gz to data/MNIST/raw\n",
            "\n",
            "Downloading http://yann.lecun.com/exdb/mnist/t10k-labels-idx1-ubyte.gz\n",
            "Downloading http://yann.lecun.com/exdb/mnist/t10k-labels-idx1-ubyte.gz to data/MNIST/raw/t10k-labels-idx1-ubyte.gz\n"
          ]
        },
        {
          "data": {
            "application/vnd.jupyter.widget-view+json": {
              "model_id": "9e54314aaa254e4c905c7c7cdc5ec412",
              "version_major": 2,
              "version_minor": 0
            },
            "text/plain": [
              "  0%|          | 0/4542 [00:00<?, ?it/s]"
            ]
          },
          "metadata": {},
          "output_type": "display_data"
        },
        {
          "name": "stdout",
          "output_type": "stream",
          "text": [
            "Extracting data/MNIST/raw/t10k-labels-idx1-ubyte.gz to data/MNIST/raw\n",
            "\n"
          ]
        }
      ],
      "source": [
        "for i in range(3):\n",
        "  rng_permute = np.random.RandomState(92916+i)\n",
        "  idx_permute = torch.from_numpy(rng_permute.permutation(784))\n",
        "  transform = torchvision.transforms.Compose([torchvision.transforms.ToTensor(),\n",
        "                torchvision.transforms.Lambda(lambda x: x.view(-1)[idx_permute].view(1, 28, 28) )])\n",
        "  train_loader = torch.utils.data.DataLoader(torchvision.datasets.MNIST('data', train=True, download=True,\n",
        "                    transform=transform),batch_size=32, shuffle=True)\n",
        "  test_loader = torch.utils.data.DataLoader(torchvision.datasets.MNIST('data', train=False, download=True,\n",
        "                    transform=transform),batch_size=32, shuffle=True)\n",
        "  train_loaders.append(train_loader)\n",
        "  test_loaders.append(test_loader)"
      ]
    },
    {
      "cell_type": "markdown",
      "metadata": {
        "id": "bmxm6idWw43_"
      },
      "source": [
        "## Model"
      ]
    },
    {
      "cell_type": "code",
      "execution_count": null,
      "metadata": {
        "id": "4YQpb79Kw50_"
      },
      "outputs": [],
      "source": [
        "class PowerPropLinear(nn. Module):\n",
        "  def __init__(self, in_size, out_size, alpha):\n",
        "    super().__init__()\n",
        "    self.in_size = in_size\n",
        "    self.out_size = out_size\n",
        "    bias = torch.Tensor(out_size)\n",
        "    self.bias = nn.Parameter(bias)\n",
        "    self.alpha = alpha\n",
        "\n",
        "    super_weights = torch.Tensor(out_size, in_size)\n",
        "    nn.init.kaiming_uniform_(super_weights, a=math.sqrt(5))\n",
        "    fan_in, _ = nn.init._calculate_fan_in_and_fan_out(super_weights)\n",
        "    bound = 1 / math.sqrt(fan_in)\n",
        "    nn.init.uniform_(self.bias, -bound, bound) \n",
        "\n",
        "    abs = torch.abs(super_weights)\n",
        "    signs = torch.sign(super_weights)\n",
        "    weights = torch.mul(signs, torch.pow(abs, 1/alpha))\n",
        "    self.weights = nn.Parameter(weights)\n",
        "\n",
        "    self.forward_mask = torch.ones(self.weights.size())\n",
        "\n",
        "  def forward(self, x):\n",
        "    super_weights = torch.mul(torch.sign(self.weights), torch.pow(torch.abs(self.weights), self.alpha))\n",
        "    w_times_x = torch.mm(x, torch.mul(super_weights, self.forward_mask).t())\n",
        "    return torch.add(w_times_x, self.bias)\n",
        "\n",
        "  def set_forward_mask(self, mask):\n",
        "    self.forward_mask = mask\n",
        "\n",
        "  def reset_forward_mask(self):\n",
        "    self.forward_mask = torch.ones(self.weights.size())"
      ]
    },
    {
      "cell_type": "markdown",
      "metadata": {
        "id": "0RJTunlyjOJM"
      },
      "source": [
        "### Baseline: No powerpropogation"
      ]
    },
    {
      "cell_type": "code",
      "execution_count": null,
      "metadata": {
        "id": "jTQal2iFw6RK"
      },
      "outputs": [],
      "source": [
        "alpha = 1"
      ]
    },
    {
      "cell_type": "code",
      "execution_count": null,
      "metadata": {
        "id": "cml4pmHNw9gI"
      },
      "outputs": [],
      "source": [
        "model2 = nn.Sequential(\n",
        "    PowerPropLinear(784, 128, alpha),\n",
        "    nn.ReLU(),\n",
        "    PowerPropLinear(128, 10, alpha)\n",
        ")"
      ]
    },
    {
      "cell_type": "code",
      "execution_count": null,
      "metadata": {
        "id": "5-tHqO8exC8k"
      },
      "outputs": [],
      "source": [
        "criterion = nn.CrossEntropyLoss()\n",
        "optimizer = torch.optim.Adam(model2.parameters())"
      ]
    },
    {
      "cell_type": "code",
      "execution_count": null,
      "metadata": {
        "id": "azn3I2OnxF4F"
      },
      "outputs": [],
      "source": [
        "batch_size = 32\n",
        "n_epochs = 10\n",
        "\n",
        "train_losses = np.zeros(n_epochs)\n",
        "test_losses = np.zeros(n_epochs)\n",
        "\n",
        "mask_backward_0 = torch.ones(model2[0].weights.size())\n",
        "mask_backward_1 = torch.ones(model2[2].weights.size())"
      ]
    },
    {
      "cell_type": "code",
      "execution_count": null,
      "metadata": {
        "id": "6M9CNhZs3P3g"
      },
      "outputs": [],
      "source": [
        "S = 0.2"
      ]
    },
    {
      "cell_type": "code",
      "execution_count": null,
      "metadata": {
        "id": "SnDHI7hM_K3o"
      },
      "outputs": [],
      "source": [
        "forward_masks_0 = [torch.zeros(model2[0].weights.size()).flatten()]*len(train_loaders)\n",
        "forward_masks_1 = [torch.zeros(model2[2].weights.size()).flatten()]*len(train_loaders)"
      ]
    },
    {
      "cell_type": "code",
      "execution_count": null,
      "metadata": {
        "colab": {
          "base_uri": "https://localhost:8080/"
        },
        "id": "VKREhOeQyRuN",
        "outputId": "e1afa344-6b3d-45f8-d45e-7c0b15870cf3"
      },
      "outputs": [
        {
          "name": "stdout",
          "output_type": "stream",
          "text": [
            "-----------------------------------\n",
            "Task: 0\n",
            "Epoch 1/10, Train Loss: 0.2925\n",
            "Epoch 2/10, Train Loss: 0.1280\n",
            "Epoch 3/10, Train Loss: 0.0866\n",
            "Epoch 4/10, Train Loss: 0.0648\n",
            "Epoch 5/10, Train Loss: 0.0501\n",
            "Epoch 6/10, Train Loss: 0.0382\n",
            "Epoch 7/10, Train Loss: 0.0303\n",
            "Epoch 8/10, Train Loss: 0.0249\n",
            "Epoch 9/10, Train Loss: 0.0202\n",
            "Epoch 10/10, Train Loss: 0.0170\n",
            "Acc: 0.9967666666666667\n",
            "-----------------------------------\n",
            "Task: 1\n",
            "Epoch 1/10, Train Loss: 0.0108\n",
            "Epoch 2/10, Train Loss: 0.0099\n",
            "Epoch 3/10, Train Loss: 0.0090\n",
            "Epoch 4/10, Train Loss: 0.0081\n",
            "Epoch 5/10, Train Loss: 0.0069\n",
            "Epoch 6/10, Train Loss: 0.0068\n",
            "Epoch 7/10, Train Loss: 0.0071\n",
            "Epoch 8/10, Train Loss: 0.0060\n",
            "Epoch 9/10, Train Loss: 0.0047\n",
            "Epoch 10/10, Train Loss: 0.0059\n",
            "Acc: 0.9983833333333333\n",
            "-----------------------------------\n",
            "Task: 2\n",
            "Epoch 1/10, Train Loss: 0.0026\n",
            "Epoch 2/10, Train Loss: 0.0028\n",
            "Epoch 3/10, Train Loss: 0.0025\n",
            "Epoch 4/10, Train Loss: 0.0029\n",
            "Epoch 5/10, Train Loss: 0.0023\n",
            "Epoch 6/10, Train Loss: 0.0019\n",
            "Epoch 7/10, Train Loss: 0.0033\n",
            "Epoch 8/10, Train Loss: 0.0013\n",
            "Epoch 9/10, Train Loss: 0.0032\n",
            "Epoch 10/10, Train Loss: 0.0020\n",
            "Acc: 1.0\n"
          ]
        }
      ],
      "source": [
        "# training\n",
        "\n",
        "for train_idx in range(len(train_loaders)):\n",
        "  print(\"-----------------------------------\")\n",
        "  print(\"Task:\", train_idx)\n",
        "  train_loader = train_loaders[train_idx]\n",
        "  train_losses = np.zeros(n_epochs)\n",
        "  for it in range(n_epochs):\n",
        "    train_loss = []\n",
        "    for inputs, targets in train_loader:\n",
        "      inputs = inputs.view(-1, 784)\n",
        "      optimizer.zero_grad()\n",
        "      # model2[0].reset_forward_mask()\n",
        "      # model2[2].reset_forward_mask()\n",
        "      outputs = model2(inputs)\n",
        "      loss = criterion(outputs, targets)\n",
        "      loss.backward()\n",
        "      model2[0].weights.grad = model2[0].weights.grad * mask_backward_0\n",
        "      model2[2].weights.grad = model2[2].weights.grad * mask_backward_1\n",
        "      optimizer.step()\n",
        "      train_loss.append(loss.item())\n",
        "    train_loss = np.mean(train_loss) \n",
        "\n",
        "    train_losses[it] = train_loss\n",
        "\n",
        "      \n",
        "    print(f'Epoch {it+1}/{n_epochs}, Train Loss: {train_loss:.4f}')\n",
        "\n",
        "\n",
        "  # Accuracy\n",
        "  n_correct = 0\n",
        "  n_total = 0\n",
        "\n",
        "  for inputs, targets in train_loader:\n",
        "    inputs = inputs.view(-1, 784)\n",
        "    outputs = model2(inputs)\n",
        "    _, predictions = torch.max(outputs,1)\n",
        "    n_correct += (predictions==targets).sum().item()\n",
        "    n_total += targets.shape[0]\n",
        "  train_acc = n_correct/n_total\n",
        "\n",
        "  print(\"Acc:\", train_acc)\n",
        "\n",
        "  idx_0 = torch.topk((torch.abs(model2[0].weights)*mask_backward_0).flatten(), math.floor(S*int(model2[0].weights.flatten().shape[0]))).indices\n",
        "  idx_1 = torch.topk((torch.abs(model2[2].weights)*mask_backward_1).flatten(), math.floor(S*int(model2[2].weights.flatten().shape[0]))).indices\n",
        "  np_mask_0 = np.zeros(model2[0].weights.flatten().size())\n",
        "  np_mask_0[idx_0] = 1\n",
        "  forward_masks_0[train_idx] = torch.from_numpy(np_mask_0)\n",
        "  np_mask_1 = np.zeros(model2[2].weights.flatten().size())\n",
        "  np_mask_1[idx_1] = 1\n",
        "  forward_masks_1[train_idx] = torch.from_numpy(np_mask_1)\n",
        "  # print(forward_masks_0[train_idx] == forward_masks_0[train_idx-1])\n",
        "\n",
        "  or_mask_0 = forward_masks_0[-1]\n",
        "  or_mask_1 = forward_masks_1[-1]\n",
        "\n",
        "  for mask in forward_masks_0[:-1]:\n",
        "    or_mask_0 = torch.logical_or(or_mask_0, mask).int()\n",
        "\n",
        "  for mask in forward_masks_1[:-1]:\n",
        "    or_mask_1 = torch.logical_or(or_mask_1, mask).int()\n",
        "\n",
        "  mask_backward_0 = torch.logical_not(or_mask_0.reshape(model2[0].weights.size())).int()\n",
        "  mask_backward_1 = torch.logical_not(or_mask_1.reshape(model2[2].weights.size())).int()\n",
        "\n",
        "  # print(\"masks\")\n",
        "  # print(torch.sum(mask_backward_0))\n",
        "  # print(torch.sum(mask_backward_1))\n"
      ]
    },
    {
      "cell_type": "code",
      "execution_count": null,
      "metadata": {
        "id": "m1_lnT-xD-ag"
      },
      "outputs": [],
      "source": [
        "weights = np.concatenate((model2[0].weights.cpu().detach().numpy().flatten(), model2[2].weights.cpu().detach().numpy().flatten()))"
      ]
    },
    {
      "cell_type": "code",
      "execution_count": null,
      "metadata": {
        "colab": {
          "base_uri": "https://localhost:8080/",
          "height": 269
        },
        "id": "SkEw3cQPEPRJ",
        "outputId": "a5d6ce90-96d7-4246-a3ba-696068d3eeec"
      },
      "outputs": [
        {
          "data": {
            "image/png": "[encoded data removed]",
            "text/plain": [
              "<Figure size 432x288 with 1 Axes>"
            ]
          },
          "metadata": {},
          "output_type": "display_data"
        }
      ],
      "source": [
        "plt.hist(weights, bins=100, alpha=0.5, color = \"blue\")\n",
        "plt.xlim([-2, 2])\n",
        "plt.ylim([0, 20000])\n",
        "plt.show()"
      ]
    },
    {
      "cell_type": "code",
      "execution_count": null,
      "metadata": {
        "colab": {
          "base_uri": "https://localhost:8080/",
          "height": 284
        },
        "id": "JmKHaonjEc-V",
        "outputId": "481999b6-aa48-44ec-98fe-eb87f6b2d06a"
      },
      "outputs": [
        {
          "data": {
            "image/png": "[encoded data removed]",
            "text/plain": [
              "<Figure size 432x288 with 1 Axes>"
            ]
          },
          "metadata": {},
          "output_type": "display_data"
        },
        {
          "data": {
            "image/png": "[encoded data removed]",
            "text/plain": [
              "<Figure size 432x288 with 1 Axes>"
            ]
          },
          "metadata": {},
          "output_type": "display_data"
        },
        {
          "data": {
            "image/png": "[encoded data removed]",
            "text/plain": [
              "<Figure size 432x288 with 1 Axes>"
            ]
          },
          "metadata": {},
          "output_type": "display_data"
        }
      ],
      "source": [
        "for mask in forward_masks_0:\n",
        "  plt.imshow(mask.reshape(model2[0].weights.size()).numpy(), interpolation='nearest')\n",
        "  plt.show()"
      ]
    },
    {
      "cell_type": "code",
      "execution_count": null,
      "metadata": {
        "colab": {
          "base_uri": "https://localhost:8080/",
          "height": 197
        },
        "id": "kSAmo2TuMquU",
        "outputId": "1e0b22fd-55ac-49b5-da5a-f2e9033f1e1f"
      },
      "outputs": [
        {
          "data": {
            "image/png": "[encoded data removed]",
            "text/plain": [
              "<Figure size 432x288 with 1 Axes>"
            ]
          },
          "metadata": {},
          "output_type": "display_data"
        },
        {
          "data": {
            "image/png": "[encoded data removed]",
            "text/plain": [
              "<Figure size 432x288 with 1 Axes>"
            ]
          },
          "metadata": {},
          "output_type": "display_data"
        },
        {
          "data": {
            "image/png": "[encoded data removed]",
            "text/plain": [
              "<Figure size 432x288 with 1 Axes>"
            ]
          },
          "metadata": {},
          "output_type": "display_data"
        }
      ],
      "source": [
        "for mask in forward_masks_1:\n",
        "  plt.imshow(mask.reshape(model2[2].weights.size()).numpy(), interpolation='nearest')\n",
        "  plt.show()"
      ]
    },
    {
      "cell_type": "code",
      "execution_count": null,
      "metadata": {
        "colab": {
          "base_uri": "https://localhost:8080/"
        },
        "id": "vRVWGGjlMvtI",
        "outputId": "01ce47c7-8abd-42bc-cafb-8f0f4b4f6911"
      },
      "outputs": [
        {
          "name": "stdout",
          "output_type": "stream",
          "text": [
            "Task: 0\n",
            "Acc: 0.9083916666666667\n",
            "Task: 1\n",
            "Acc: 0.6848444444444445\n",
            "Task: 2\n",
            "Acc: 0.5510083333333333\n"
          ]
        }
      ],
      "source": [
        "for train_idx in range(len(train_loaders)):\n",
        "  train_loader = train_loaders[train_idx]\n",
        "  for inputs, targets in train_loader:\n",
        "      inputs = inputs.view(-1, 784)\n",
        "      model2[0].reset_forward_mask()\n",
        "      model2[0].set_forward_mask(forward_masks_0[train_idx].reshape(model2[0].weights.size()).float())\n",
        "      model2[2].reset_forward_mask()\n",
        "      model2[2].set_forward_mask(forward_masks_1[train_idx].reshape(model2[2].weights.size()).float())\n",
        "      outputs = model2(inputs)\n",
        "      _, predictions = torch.max(outputs,1)\n",
        "      n_correct += (predictions==targets).sum().item()\n",
        "      n_total += targets.shape[0]\n",
        "      train_acc = n_correct/n_total\n",
        "  print(\"Task:\", train_idx)\n",
        "  print(\"Acc:\", train_acc)"
      ]
    },
    {
      "cell_type": "markdown",
      "metadata": {
        "id": "2jpwUXYVjccO"
      },
      "source": [
        "### EfficientPackNet: with PowerPropogation"
      ]
    },
    {
      "cell_type": "code",
      "execution_count": null,
      "metadata": {
        "id": "inFSFUBieVmo"
      },
      "outputs": [],
      "source": [
        "alpha = 1.5"
      ]
    },
    {
      "cell_type": "code",
      "execution_count": null,
      "metadata": {
        "id": "251JucNIjkQT"
      },
      "outputs": [],
      "source": [
        "model2 = nn.Sequential(\n",
        "    PowerPropLinear(784, 128, alpha),\n",
        "    nn.ReLU(),\n",
        "    PowerPropLinear(128, 10, alpha)\n",
        ")"
      ]
    },
    {
      "cell_type": "code",
      "execution_count": null,
      "metadata": {
        "id": "wQX_RKtzjmO5"
      },
      "outputs": [],
      "source": [
        "criterion = nn.CrossEntropyLoss()\n",
        "optimizer = torch.optim.Adam(model2.parameters())"
      ]
    },
    {
      "cell_type": "code",
      "execution_count": null,
      "metadata": {
        "id": "f9Z6CzMtjo0x"
      },
      "outputs": [],
      "source": [
        "batch_size = 32\n",
        "n_epochs = 10\n",
        "\n",
        "train_losses = np.zeros(n_epochs)\n",
        "test_losses = np.zeros(n_epochs)\n",
        "\n",
        "mask_backward_0 = torch.ones(model2[0].weights.size())\n",
        "mask_backward_1 = torch.ones(model2[2].weights.size())"
      ]
    },
    {
      "cell_type": "code",
      "execution_count": null,
      "metadata": {
        "id": "RuCd6n_ejrrC"
      },
      "outputs": [],
      "source": [
        "S = 0.2"
      ]
    },
    {
      "cell_type": "code",
      "execution_count": null,
      "metadata": {
        "id": "I_ITjmlUjt6U"
      },
      "outputs": [],
      "source": [
        "forward_masks_0 = [torch.zeros(model2[0].weights.size()).flatten()]*len(train_loaders)\n",
        "forward_masks_1 = [torch.zeros(model2[2].weights.size()).flatten()]*len(train_loaders)"
      ]
    },
    {
      "cell_type": "code",
      "execution_count": null,
      "metadata": {
        "colab": {
          "background_save": true,
          "base_uri": "https://localhost:8080/"
        },
        "id": "1P5drKqGjwAl",
        "outputId": "9fe7800c-5ca1-418a-e519-1af079e5fe9c"
      },
      "outputs": [
        {
          "name": "stdout",
          "output_type": "stream",
          "text": [
            "-----------------------------------\n",
            "Task: 0\n",
            "Epoch 1/10, Train Loss: 0.3681\n",
            "Epoch 2/10, Train Loss: 0.1592\n",
            "Epoch 3/10, Train Loss: 0.1086\n",
            "Epoch 4/10, Train Loss: 0.0808\n",
            "Epoch 5/10, Train Loss: 0.0639\n",
            "Epoch 6/10, Train Loss: 0.0516\n",
            "Epoch 7/10, Train Loss: 0.0418\n",
            "Epoch 8/10, Train Loss: 0.0343\n",
            "Epoch 9/10, Train Loss: 0.0284\n",
            "Epoch 10/10, Train Loss: 0.0230\n",
            "Acc: 0.9955\n",
            "-----------------------------------\n",
            "Task: 1\n",
            "Epoch 1/10, Train Loss: 0.0158\n",
            "Epoch 2/10, Train Loss: 0.0138\n",
            "Epoch 3/10, Train Loss: 0.0125\n",
            "Epoch 4/10, Train Loss: 0.0113\n",
            "Epoch 5/10, Train Loss: 0.0096\n",
            "Epoch 6/10, Train Loss: 0.0090\n",
            "Epoch 7/10, Train Loss: 0.0081\n",
            "Epoch 8/10, Train Loss: 0.0071\n",
            "Epoch 9/10, Train Loss: 0.0069\n",
            "Epoch 10/10, Train Loss: 0.0057\n",
            "Acc: 0.9998833333333333\n",
            "-----------------------------------\n",
            "Task: 2\n",
            "Epoch 1/10, Train Loss: 0.0040\n",
            "Epoch 2/10, Train Loss: 0.0039\n",
            "Epoch 3/10, Train Loss: 0.0036\n",
            "Epoch 4/10, Train Loss: 0.0036\n",
            "Epoch 5/10, Train Loss: 0.0033\n",
            "Epoch 6/10, Train Loss: 0.0033\n",
            "Epoch 7/10, Train Loss: 0.0031\n",
            "Epoch 8/10, Train Loss: 0.0030\n",
            "Epoch 9/10, Train Loss: 0.0027\n",
            "Epoch 10/10, Train Loss: 0.0028\n",
            "Acc: 0.9999666666666667\n"
          ]
        }
      ],
      "source": [
        "# training\n",
        "\n",
        "for train_idx in range(len(train_loaders)):\n",
        "  print(\"-----------------------------------\")\n",
        "  print(\"Task:\", train_idx)\n",
        "  train_loader = train_loaders[train_idx]\n",
        "  train_losses = np.zeros(n_epochs)\n",
        "  for it in range(n_epochs):\n",
        "    train_loss = []\n",
        "    for inputs, targets in train_loader:\n",
        "      inputs = inputs.view(-1, 784)\n",
        "      optimizer.zero_grad()\n",
        "      # model2[0].reset_forward_mask()\n",
        "      # model2[2].reset_forward_mask()\n",
        "      outputs = model2(inputs)\n",
        "      loss = criterion(outputs, targets)\n",
        "      loss.backward()\n",
        "      model2[0].weights.grad = model2[0].weights.grad * mask_backward_0\n",
        "      model2[2].weights.grad = model2[2].weights.grad * mask_backward_1\n",
        "      optimizer.step()\n",
        "      train_loss.append(loss.item())\n",
        "    train_loss = np.mean(train_loss) \n",
        "\n",
        "    train_losses[it] = train_loss\n",
        "\n",
        "      \n",
        "    print(f'Epoch {it+1}/{n_epochs}, Train Loss: {train_loss:.4f}')\n",
        "\n",
        "\n",
        "  # Accuracy\n",
        "  n_correct = 0\n",
        "  n_total = 0\n",
        "\n",
        "  for inputs, targets in train_loader:\n",
        "    inputs = inputs.view(-1, 784)\n",
        "    outputs = model2(inputs)\n",
        "    _, predictions = torch.max(outputs,1)\n",
        "    n_correct += (predictions==targets).sum().item()\n",
        "    n_total += targets.shape[0]\n",
        "  train_acc = n_correct/n_total\n",
        "\n",
        "  print(\"Acc:\", train_acc)\n",
        "\n",
        "  idx_0 = torch.topk((torch.abs(model2[0].weights)*mask_backward_0).flatten(), math.floor(S*int(model2[0].weights.flatten().shape[0]))).indices\n",
        "  idx_1 = torch.topk((torch.abs(model2[2].weights)*mask_backward_1).flatten(), math.floor(S*int(model2[2].weights.flatten().shape[0]))).indices\n",
        "  np_mask_0 = np.zeros(model2[0].weights.flatten().size())\n",
        "  np_mask_0[idx_0] = 1\n",
        "  forward_masks_0[train_idx] = torch.from_numpy(np_mask_0)\n",
        "  np_mask_1 = np.zeros(model2[2].weights.flatten().size())\n",
        "  np_mask_1[idx_1] = 1\n",
        "  forward_masks_1[train_idx] = torch.from_numpy(np_mask_1)\n",
        "  # print(forward_masks_0[train_idx] == forward_masks_0[train_idx-1])\n",
        "\n",
        "  or_mask_0 = forward_masks_0[-1]\n",
        "  or_mask_1 = forward_masks_1[-1]\n",
        "\n",
        "  for mask in forward_masks_0[:-1]:\n",
        "    or_mask_0 = torch.logical_or(or_mask_0, mask).int()\n",
        "\n",
        "  for mask in forward_masks_1[:-1]:\n",
        "    or_mask_1 = torch.logical_or(or_mask_1, mask).int()\n",
        "\n",
        "  mask_backward_0 = torch.logical_not(or_mask_0.reshape(model2[0].weights.size())).int()\n",
        "  mask_backward_1 = torch.logical_not(or_mask_1.reshape(model2[2].weights.size())).int()\n",
        "\n",
        "  # print(\"masks\")\n",
        "  # print(torch.sum(mask_backward_0))\n",
        "  # print(torch.sum(mask_backward_1))\n"
      ]
    },
    {
      "cell_type": "code",
      "execution_count": null,
      "metadata": {
        "colab": {
          "background_save": true
        },
        "id": "pNY5Yis2jyOB"
      },
      "outputs": [],
      "source": [
        "weights = np.concatenate((model2[0].weights.cpu().detach().numpy().flatten(), model2[2].weights.cpu().detach().numpy().flatten()))"
      ]
    },
    {
      "cell_type": "code",
      "execution_count": null,
      "metadata": {
        "colab": {
          "background_save": true
        },
        "id": "tqZytiWCj0cs",
        "outputId": "169b28e5-e4f3-4b3c-aa2a-2cda25dbb049"
      },
      "outputs": [
        {
          "data": {
            "image/png": "[encoded data removed]",
            "text/plain": [
              "<Figure size 432x288 with 1 Axes>"
            ]
          },
          "metadata": {},
          "output_type": "display_data"
        }
      ],
      "source": [
        "plt.hist(weights, bins=100, alpha=0.5, color = \"blue\")\n",
        "plt.xlim([-2, 2])\n",
        "plt.ylim([0, 20000])\n",
        "plt.show()"
      ]
    },
    {
      "cell_type": "code",
      "execution_count": null,
      "metadata": {
        "colab": {
          "background_save": true
        },
        "id": "Vh8wpDvMj2hB",
        "outputId": "7e3c3d5a-c1ff-4530-9358-2cb0f3f8579e"
      },
      "outputs": [
        {
          "data": {
            "image/png": "[encoded data removed]",
            "text/plain": [
              "<Figure size 432x288 with 1 Axes>"
            ]
          },
          "metadata": {},
          "output_type": "display_data"
        },
        {
          "data": {
            "image/png": "[encoded data removed]",
            "text/plain": [
              "<Figure size 432x288 with 1 Axes>"
            ]
          },
          "metadata": {},
          "output_type": "display_data"
        },
        {
          "data": {
            "image/png": "[encoded data removed]",
            "text/plain": [
              "<Figure size 432x288 with 1 Axes>"
            ]
          },
          "metadata": {},
          "output_type": "display_data"
        }
      ],
      "source": [
        "for mask in forward_masks_0:\n",
        "  plt.imshow(mask.reshape(model2[0].weights.size()).numpy(), interpolation='nearest')\n",
        "  plt.show()"
      ]
    },
    {
      "cell_type": "code",
      "execution_count": null,
      "metadata": {
        "colab": {
          "background_save": true
        },
        "id": "RIPt5A3_j63z",
        "outputId": "fe4ff41b-d52f-4582-8cd5-81fa27be693c"
      },
      "outputs": [
        {
          "data": {
            "image/png": "[encoded data removed]",
            "text/plain": [
              "<Figure size 432x288 with 1 Axes>"
            ]
          },
          "metadata": {},
          "output_type": "display_data"
        },
        {
          "data": {
            "image/png": "[encoded data removed]",
            "text/plain": [
              "<Figure size 432x288 with 1 Axes>"
            ]
          },
          "metadata": {},
          "output_type": "display_data"
        },
        {
          "data": {
            "image/png": "[encoded data removed]",
            "text/plain": [
              "<Figure size 432x288 with 1 Axes>"
            ]
          },
          "metadata": {},
          "output_type": "display_data"
        }
      ],
      "source": [
        "for mask in forward_masks_1:\n",
        "  plt.imshow(mask.reshape(model2[2].weights.size()).numpy(), interpolation='nearest')\n",
        "  plt.show()"
      ]
    },
    {
      "cell_type": "code",
      "execution_count": null,
      "metadata": {
        "colab": {
          "background_save": true
        },
        "id": "JrpCCdo5j4wV",
        "outputId": "232dd07c-ca6c-446b-fd9f-0d17bd2d7b87"
      },
      "outputs": [
        {
          "name": "stdout",
          "output_type": "stream",
          "text": [
            "Task: 0\n",
            "Acc: 0.919875\n",
            "Task: 1\n",
            "Acc: 0.7259888888888889\n",
            "Task: 2\n",
            "Acc: 0.5784708333333334\n"
          ]
        }
      ],
      "source": [
        "for train_idx in range(len(train_loaders)):\n",
        "  train_loader = train_loaders[train_idx]\n",
        "  for inputs, targets in train_loader:\n",
        "      inputs = inputs.view(-1, 784)\n",
        "      model2[0].reset_forward_mask()\n",
        "      model2[0].set_forward_mask(forward_masks_0[train_idx].reshape(model2[0].weights.size()).float())\n",
        "      model2[2].reset_forward_mask()\n",
        "      model2[2].set_forward_mask(forward_masks_1[train_idx].reshape(model2[2].weights.size()).float())\n",
        "      outputs = model2(inputs)\n",
        "      _, predictions = torch.max(outputs,1)\n",
        "      n_correct += (predictions==targets).sum().item()\n",
        "      n_total += targets.shape[0]\n",
        "      train_acc = n_correct/n_total\n",
        "  print(\"Task:\", train_idx)\n",
        "  print(\"Acc:\", train_acc)"
      ]
    }
  ],
  "metadata": {
    "colab": {
      "collapsed_sections": [],
      "name": "PowerProp PackNet.ipynb",
      "provenance": []
    },
    "kernelspec": {
      "display_name": "Python 3",
      "name": "python3"
    },
    "language_info": {
      "name": "python"
    },
    "widgets": {
      "application/vnd.jupyter.widget-state+json": {
        "03ef03d2aba8467d91d6366c311a1c2d": {
          "model_module": "@jupyter-widgets/base",
          "model_module_version": "1.2.0",
          "model_name": "LayoutModel",
          "state": {
            "_model_module": "@jupyter-widgets/base",
            "_model_module_version": "1.2.0",
            "_model_name": "LayoutModel",
            "_view_count": null,
            "_view_module": "@jupyter-widgets/base",
            "_view_module_version": "1.2.0",
            "_view_name": "LayoutView",
            "align_content": null,
            "align_items": null,
            "align_self": null,
            "border": null,
            "bottom": null,
            "display": null,
            "flex": null,
            "flex_flow": null,
            "grid_area": null,
            "grid_auto_columns": null,
            "grid_auto_flow": null,
            "grid_auto_rows": null,
            "grid_column": null,
            "grid_gap": null,
            "grid_row": null,
            "grid_template_areas": null,
            "grid_template_columns": null,
            "grid_template_rows": null,
            "height": null,
            "justify_content": null,
            "justify_items": null,
            "left": null,
            "margin": null,
            "max_height": null,
            "max_width": null,
            "min_height": null,
            "min_width": null,
            "object_fit": null,
            "object_position": null,
            "order": null,
            "overflow": null,
            "overflow_x": null,
            "overflow_y": null,
            "padding": null,
            "right": null,
            "top": null,
            "visibility": null,
            "width": null
          }
        },
        "092c64f9e744437e83bfa1805da8f151": {
          "model_module": "@jupyter-widgets/controls",
          "model_module_version": "1.5.0",
          "model_name": "ProgressStyleModel",
          "state": {
            "_model_module": "@jupyter-widgets/controls",
            "_model_module_version": "1.5.0",
            "_model_name": "ProgressStyleModel",
            "_view_count": null,
            "_view_module": "@jupyter-widgets/base",
            "_view_module_version": "1.2.0",
            "_view_name": "StyleView",
            "bar_color": null,
            "description_width": ""
          }
        },
        "1482eedd66cd43aab3682cff94e478bb": {
          "model_module": "@jupyter-widgets/base",
          "model_module_version": "1.2.0",
          "model_name": "LayoutModel",
          "state": {
            "_model_module": "@jupyter-widgets/base",
            "_model_module_version": "1.2.0",
            "_model_name": "LayoutModel",
            "_view_count": null,
            "_view_module": "@jupyter-widgets/base",
            "_view_module_version": "1.2.0",
            "_view_name": "LayoutView",
            "align_content": null,
            "align_items": null,
            "align_self": null,
            "border": null,
            "bottom": null,
            "display": null,
            "flex": null,
            "flex_flow": null,
            "grid_area": null,
            "grid_auto_columns": null,
            "grid_auto_flow": null,
            "grid_auto_rows": null,
            "grid_column": null,
            "grid_gap": null,
            "grid_row": null,
            "grid_template_areas": null,
            "grid_template_columns": null,
            "grid_template_rows": null,
            "height": null,
            "justify_content": null,
            "justify_items": null,
            "left": null,
            "margin": null,
            "max_height": null,
            "max_width": null,
            "min_height": null,
            "min_width": null,
            "object_fit": null,
            "object_position": null,
            "order": null,
            "overflow": null,
            "overflow_x": null,
            "overflow_y": null,
            "padding": null,
            "right": null,
            "top": null,
            "visibility": null,
            "width": null
          }
        },
        "1b267fb995104d1682de59e088debc58": {
          "model_module": "@jupyter-widgets/base",
          "model_module_version": "1.2.0",
          "model_name": "LayoutModel",
          "state": {
            "_model_module": "@jupyter-widgets/base",
            "_model_module_version": "1.2.0",
            "_model_name": "LayoutModel",
            "_view_count": null,
            "_view_module": "@jupyter-widgets/base",
            "_view_module_version": "1.2.0",
            "_view_name": "LayoutView",
            "align_content": null,
            "align_items": null,
            "align_self": null,
            "border": null,
            "bottom": null,
            "display": null,
            "flex": null,
            "flex_flow": null,
            "grid_area": null,
            "grid_auto_columns": null,
            "grid_auto_flow": null,
            "grid_auto_rows": null,
            "grid_column": null,
            "grid_gap": null,
            "grid_row": null,
            "grid_template_areas": null,
            "grid_template_columns": null,
            "grid_template_rows": null,
            "height": null,
            "justify_content": null,
            "justify_items": null,
            "left": null,
            "margin": null,
            "max_height": null,
            "max_width": null,
            "min_height": null,
            "min_width": null,
            "object_fit": null,
            "object_position": null,
            "order": null,
            "overflow": null,
            "overflow_x": null,
            "overflow_y": null,
            "padding": null,
            "right": null,
            "top": null,
            "visibility": null,
            "width": null
          }
        },
        "26ec4adac3514c8e901f653247395bcd": {
          "model_module": "@jupyter-widgets/base",
          "model_module_version": "1.2.0",
          "model_name": "LayoutModel",
          "state": {
            "_model_module": "@jupyter-widgets/base",
            "_model_module_version": "1.2.0",
            "_model_name": "LayoutModel",
            "_view_count": null,
            "_view_module": "@jupyter-widgets/base",
            "_view_module_version": "1.2.0",
            "_view_name": "LayoutView",
            "align_content": null,
            "align_items": null,
            "align_self": null,
            "border": null,
            "bottom": null,
            "display": null,
            "flex": null,
            "flex_flow": null,
            "grid_area": null,
            "grid_auto_columns": null,
            "grid_auto_flow": null,
            "grid_auto_rows": null,
            "grid_column": null,
            "grid_gap": null,
            "grid_row": null,
            "grid_template_areas": null,
            "grid_template_columns": null,
            "grid_template_rows": null,
            "height": null,
            "justify_content": null,
            "justify_items": null,
            "left": null,
            "margin": null,
            "max_height": null,
            "max_width": null,
            "min_height": null,
            "min_width": null,
            "object_fit": null,
            "object_position": null,
            "order": null,
            "overflow": null,
            "overflow_x": null,
            "overflow_y": null,
            "padding": null,
            "right": null,
            "top": null,
            "visibility": null,
            "width": null
          }
        },
        "2b4c5d2052394ad5bc61b45bccacb312": {
          "model_module": "@jupyter-widgets/controls",
          "model_module_version": "1.5.0",
          "model_name": "DescriptionStyleModel",
          "state": {
            "_model_module": "@jupyter-widgets/controls",
            "_model_module_version": "1.5.0",
            "_model_name": "DescriptionStyleModel",
            "_view_count": null,
            "_view_module": "@jupyter-widgets/base",
            "_view_module_version": "1.2.0",
            "_view_name": "StyleView",
            "description_width": ""
          }
        },
        "2ebd6d5e1eb544b983e1136507b37a42": {
          "model_module": "@jupyter-widgets/controls",
          "model_module_version": "1.5.0",
          "model_name": "DescriptionStyleModel",
          "state": {
            "_model_module": "@jupyter-widgets/controls",
            "_model_module_version": "1.5.0",
            "_model_name": "DescriptionStyleModel",
            "_view_count": null,
            "_view_module": "@jupyter-widgets/base",
            "_view_module_version": "1.2.0",
            "_view_name": "StyleView",
            "description_width": ""
          }
        },
        "3039a047b5c14264b7cd32b6dd8af4e9": {
          "model_module": "@jupyter-widgets/controls",
          "model_module_version": "1.5.0",
          "model_name": "FloatProgressModel",
          "state": {
            "_dom_classes": [],
            "_model_module": "@jupyter-widgets/controls",
            "_model_module_version": "1.5.0",
            "_model_name": "FloatProgressModel",
            "_view_count": null,
            "_view_module": "@jupyter-widgets/controls",
            "_view_module_version": "1.5.0",
            "_view_name": "ProgressView",
            "bar_style": "success",
            "description": "",
            "description_tooltip": null,
            "layout": "IPY_MODEL_99d89e3f340646f18702177628480a43",
            "max": 28881,
            "min": 0,
            "orientation": "horizontal",
            "style": "IPY_MODEL_092c64f9e744437e83bfa1805da8f151",
            "value": 28881
          }
        },
        "31ad66210cf54ce5a28241a3b8ee0064": {
          "model_module": "@jupyter-widgets/controls",
          "model_module_version": "1.5.0",
          "model_name": "DescriptionStyleModel",
          "state": {
            "_model_module": "@jupyter-widgets/controls",
            "_model_module_version": "1.5.0",
            "_model_name": "DescriptionStyleModel",
            "_view_count": null,
            "_view_module": "@jupyter-widgets/base",
            "_view_module_version": "1.2.0",
            "_view_name": "StyleView",
            "description_width": ""
          }
        },
        "340a4a82524f43cc96cd0eb008c98eda": {
          "model_module": "@jupyter-widgets/controls",
          "model_module_version": "1.5.0",
          "model_name": "HTMLModel",
          "state": {
            "_dom_classes": [],
            "_model_module": "@jupyter-widgets/controls",
            "_model_module_version": "1.5.0",
            "_model_name": "HTMLModel",
            "_view_count": null,
            "_view_module": "@jupyter-widgets/controls",
            "_view_module_version": "1.5.0",
            "_view_name": "HTMLView",
            "description": "",
            "description_tooltip": null,
            "layout": "IPY_MODEL_975eba9fbc874735b6909fa8899505d7",
            "placeholder": "​",
            "style": "IPY_MODEL_a60bad8744f645c5b8cdd4bda6157f8c",
            "value": " 1649664/? [00:00&lt;00:00, 22453756.13it/s]"
          }
        },
        "40de14efe18641d9bb5a2d0e591da0a3": {
          "model_module": "@jupyter-widgets/base",
          "model_module_version": "1.2.0",
          "model_name": "LayoutModel",
          "state": {
            "_model_module": "@jupyter-widgets/base",
            "_model_module_version": "1.2.0",
            "_model_name": "LayoutModel",
            "_view_count": null,
            "_view_module": "@jupyter-widgets/base",
            "_view_module_version": "1.2.0",
            "_view_name": "LayoutView",
            "align_content": null,
            "align_items": null,
            "align_self": null,
            "border": null,
            "bottom": null,
            "display": null,
            "flex": null,
            "flex_flow": null,
            "grid_area": null,
            "grid_auto_columns": null,
            "grid_auto_flow": null,
            "grid_auto_rows": null,
            "grid_column": null,
            "grid_gap": null,
            "grid_row": null,
            "grid_template_areas": null,
            "grid_template_columns": null,
            "grid_template_rows": null,
            "height": null,
            "justify_content": null,
            "justify_items": null,
            "left": null,
            "margin": null,
            "max_height": null,
            "max_width": null,
            "min_height": null,
            "min_width": null,
            "object_fit": null,
            "object_position": null,
            "order": null,
            "overflow": null,
            "overflow_x": null,
            "overflow_y": null,
            "padding": null,
            "right": null,
            "top": null,
            "visibility": null,
            "width": null
          }
        },
        "4f11f716c4e74ff3af1585204dc59817": {
          "model_module": "@jupyter-widgets/base",
          "model_module_version": "1.2.0",
          "model_name": "LayoutModel",
          "state": {
            "_model_module": "@jupyter-widgets/base",
            "_model_module_version": "1.2.0",
            "_model_name": "LayoutModel",
            "_view_count": null,
            "_view_module": "@jupyter-widgets/base",
            "_view_module_version": "1.2.0",
            "_view_name": "LayoutView",
            "align_content": null,
            "align_items": null,
            "align_self": null,
            "border": null,
            "bottom": null,
            "display": null,
            "flex": null,
            "flex_flow": null,
            "grid_area": null,
            "grid_auto_columns": null,
            "grid_auto_flow": null,
            "grid_auto_rows": null,
            "grid_column": null,
            "grid_gap": null,
            "grid_row": null,
            "grid_template_areas": null,
            "grid_template_columns": null,
            "grid_template_rows": null,
            "height": null,
            "justify_content": null,
            "justify_items": null,
            "left": null,
            "margin": null,
            "max_height": null,
            "max_width": null,
            "min_height": null,
            "min_width": null,
            "object_fit": null,
            "object_position": null,
            "order": null,
            "overflow": null,
            "overflow_x": null,
            "overflow_y": null,
            "padding": null,
            "right": null,
            "top": null,
            "visibility": null,
            "width": null
          }
        },
        "54806da05e294637b45c3877be73e4e2": {
          "model_module": "@jupyter-widgets/controls",
          "model_module_version": "1.5.0",
          "model_name": "DescriptionStyleModel",
          "state": {
            "_model_module": "@jupyter-widgets/controls",
            "_model_module_version": "1.5.0",
            "_model_name": "DescriptionStyleModel",
            "_view_count": null,
            "_view_module": "@jupyter-widgets/base",
            "_view_module_version": "1.2.0",
            "_view_name": "StyleView",
            "description_width": ""
          }
        },
        "59e6a957589d4707b4f2c9bb881d6e7e": {
          "model_module": "@jupyter-widgets/base",
          "model_module_version": "1.2.0",
          "model_name": "LayoutModel",
          "state": {
            "_model_module": "@jupyter-widgets/base",
            "_model_module_version": "1.2.0",
            "_model_name": "LayoutModel",
            "_view_count": null,
            "_view_module": "@jupyter-widgets/base",
            "_view_module_version": "1.2.0",
            "_view_name": "LayoutView",
            "align_content": null,
            "align_items": null,
            "align_self": null,
            "border": null,
            "bottom": null,
            "display": null,
            "flex": null,
            "flex_flow": null,
            "grid_area": null,
            "grid_auto_columns": null,
            "grid_auto_flow": null,
            "grid_auto_rows": null,
            "grid_column": null,
            "grid_gap": null,
            "grid_row": null,
            "grid_template_areas": null,
            "grid_template_columns": null,
            "grid_template_rows": null,
            "height": null,
            "justify_content": null,
            "justify_items": null,
            "left": null,
            "margin": null,
            "max_height": null,
            "max_width": null,
            "min_height": null,
            "min_width": null,
            "object_fit": null,
            "object_position": null,
            "order": null,
            "overflow": null,
            "overflow_x": null,
            "overflow_y": null,
            "padding": null,
            "right": null,
            "top": null,
            "visibility": null,
            "width": null
          }
        },
        "693aca54261b4133bad8a7f74cf119ad": {
          "model_module": "@jupyter-widgets/controls",
          "model_module_version": "1.5.0",
          "model_name": "DescriptionStyleModel",
          "state": {
            "_model_module": "@jupyter-widgets/controls",
            "_model_module_version": "1.5.0",
            "_model_name": "DescriptionStyleModel",
            "_view_count": null,
            "_view_module": "@jupyter-widgets/base",
            "_view_module_version": "1.2.0",
            "_view_name": "StyleView",
            "description_width": ""
          }
        },
        "71d2607fe8dd4e6bb73ddbaaf5ac7503": {
          "model_module": "@jupyter-widgets/controls",
          "model_module_version": "1.5.0",
          "model_name": "FloatProgressModel",
          "state": {
            "_dom_classes": [],
            "_model_module": "@jupyter-widgets/controls",
            "_model_module_version": "1.5.0",
            "_model_name": "FloatProgressModel",
            "_view_count": null,
            "_view_module": "@jupyter-widgets/controls",
            "_view_module_version": "1.5.0",
            "_view_name": "ProgressView",
            "bar_style": "success",
            "description": "",
            "description_tooltip": null,
            "layout": "IPY_MODEL_40de14efe18641d9bb5a2d0e591da0a3",
            "max": 1648877,
            "min": 0,
            "orientation": "horizontal",
            "style": "IPY_MODEL_fc6866b9af2945da84693052bdc40a08",
            "value": 1648877
          }
        },
        "778749c83d354aa99d85bb1abfbacc95": {
          "model_module": "@jupyter-widgets/base",
          "model_module_version": "1.2.0",
          "model_name": "LayoutModel",
          "state": {
            "_model_module": "@jupyter-widgets/base",
            "_model_module_version": "1.2.0",
            "_model_name": "LayoutModel",
            "_view_count": null,
            "_view_module": "@jupyter-widgets/base",
            "_view_module_version": "1.2.0",
            "_view_name": "LayoutView",
            "align_content": null,
            "align_items": null,
            "align_self": null,
            "border": null,
            "bottom": null,
            "display": null,
            "flex": null,
            "flex_flow": null,
            "grid_area": null,
            "grid_auto_columns": null,
            "grid_auto_flow": null,
            "grid_auto_rows": null,
            "grid_column": null,
            "grid_gap": null,
            "grid_row": null,
            "grid_template_areas": null,
            "grid_template_columns": null,
            "grid_template_rows": null,
            "height": null,
            "justify_content": null,
            "justify_items": null,
            "left": null,
            "margin": null,
            "max_height": null,
            "max_width": null,
            "min_height": null,
            "min_width": null,
            "object_fit": null,
            "object_position": null,
            "order": null,
            "overflow": null,
            "overflow_x": null,
            "overflow_y": null,
            "padding": null,
            "right": null,
            "top": null,
            "visibility": null,
            "width": null
          }
        },
        "7824d88c0ed74bd7bd4b2f5be38bb0f3": {
          "model_module": "@jupyter-widgets/controls",
          "model_module_version": "1.5.0",
          "model_name": "HTMLModel",
          "state": {
            "_dom_classes": [],
            "_model_module": "@jupyter-widgets/controls",
            "_model_module_version": "1.5.0",
            "_model_name": "HTMLModel",
            "_view_count": null,
            "_view_module": "@jupyter-widgets/controls",
            "_view_module_version": "1.5.0",
            "_view_name": "HTMLView",
            "description": "",
            "description_tooltip": null,
            "layout": "IPY_MODEL_9d25f30d85c041cfb015612d7da0b60c",
            "placeholder": "​",
            "style": "IPY_MODEL_df5d24744c7242369c2e6e448a347276",
            "value": ""
          }
        },
        "7a852cd45fa94b47a36dc037d75c1260": {
          "model_module": "@jupyter-widgets/controls",
          "model_module_version": "1.5.0",
          "model_name": "HTMLModel",
          "state": {
            "_dom_classes": [],
            "_model_module": "@jupyter-widgets/controls",
            "_model_module_version": "1.5.0",
            "_model_name": "HTMLModel",
            "_view_count": null,
            "_view_module": "@jupyter-widgets/controls",
            "_view_module_version": "1.5.0",
            "_view_name": "HTMLView",
            "description": "",
            "description_tooltip": null,
            "layout": "IPY_MODEL_1b267fb995104d1682de59e088debc58",
            "placeholder": "​",
            "style": "IPY_MODEL_2b4c5d2052394ad5bc61b45bccacb312",
            "value": " 9913344/? [00:00&lt;00:00, 40241319.52it/s]"
          }
        },
        "7c5bf3c81a694f85a09ba56e1485d261": {
          "model_module": "@jupyter-widgets/base",
          "model_module_version": "1.2.0",
          "model_name": "LayoutModel",
          "state": {
            "_model_module": "@jupyter-widgets/base",
            "_model_module_version": "1.2.0",
            "_model_name": "LayoutModel",
            "_view_count": null,
            "_view_module": "@jupyter-widgets/base",
            "_view_module_version": "1.2.0",
            "_view_name": "LayoutView",
            "align_content": null,
            "align_items": null,
            "align_self": null,
            "border": null,
            "bottom": null,
            "display": null,
            "flex": null,
            "flex_flow": null,
            "grid_area": null,
            "grid_auto_columns": null,
            "grid_auto_flow": null,
            "grid_auto_rows": null,
            "grid_column": null,
            "grid_gap": null,
            "grid_row": null,
            "grid_template_areas": null,
            "grid_template_columns": null,
            "grid_template_rows": null,
            "height": null,
            "justify_content": null,
            "justify_items": null,
            "left": null,
            "margin": null,
            "max_height": null,
            "max_width": null,
            "min_height": null,
            "min_width": null,
            "object_fit": null,
            "object_position": null,
            "order": null,
            "overflow": null,
            "overflow_x": null,
            "overflow_y": null,
            "padding": null,
            "right": null,
            "top": null,
            "visibility": null,
            "width": null
          }
        },
        "805c84619a60435ead820649d84d265d": {
          "model_module": "@jupyter-widgets/controls",
          "model_module_version": "1.5.0",
          "model_name": "ProgressStyleModel",
          "state": {
            "_model_module": "@jupyter-widgets/controls",
            "_model_module_version": "1.5.0",
            "_model_name": "ProgressStyleModel",
            "_view_count": null,
            "_view_module": "@jupyter-widgets/base",
            "_view_module_version": "1.2.0",
            "_view_name": "StyleView",
            "bar_color": null,
            "description_width": ""
          }
        },
        "91bbfe6c6b7e445d8701bb1fcb35f1b3": {
          "model_module": "@jupyter-widgets/base",
          "model_module_version": "1.2.0",
          "model_name": "LayoutModel",
          "state": {
            "_model_module": "@jupyter-widgets/base",
            "_model_module_version": "1.2.0",
            "_model_name": "LayoutModel",
            "_view_count": null,
            "_view_module": "@jupyter-widgets/base",
            "_view_module_version": "1.2.0",
            "_view_name": "LayoutView",
            "align_content": null,
            "align_items": null,
            "align_self": null,
            "border": null,
            "bottom": null,
            "display": null,
            "flex": null,
            "flex_flow": null,
            "grid_area": null,
            "grid_auto_columns": null,
            "grid_auto_flow": null,
            "grid_auto_rows": null,
            "grid_column": null,
            "grid_gap": null,
            "grid_row": null,
            "grid_template_areas": null,
            "grid_template_columns": null,
            "grid_template_rows": null,
            "height": null,
            "justify_content": null,
            "justify_items": null,
            "left": null,
            "margin": null,
            "max_height": null,
            "max_width": null,
            "min_height": null,
            "min_width": null,
            "object_fit": null,
            "object_position": null,
            "order": null,
            "overflow": null,
            "overflow_x": null,
            "overflow_y": null,
            "padding": null,
            "right": null,
            "top": null,
            "visibility": null,
            "width": null
          }
        },
        "975eba9fbc874735b6909fa8899505d7": {
          "model_module": "@jupyter-widgets/base",
          "model_module_version": "1.2.0",
          "model_name": "LayoutModel",
          "state": {
            "_model_module": "@jupyter-widgets/base",
            "_model_module_version": "1.2.0",
            "_model_name": "LayoutModel",
            "_view_count": null,
            "_view_module": "@jupyter-widgets/base",
            "_view_module_version": "1.2.0",
            "_view_name": "LayoutView",
            "align_content": null,
            "align_items": null,
            "align_self": null,
            "border": null,
            "bottom": null,
            "display": null,
            "flex": null,
            "flex_flow": null,
            "grid_area": null,
            "grid_auto_columns": null,
            "grid_auto_flow": null,
            "grid_auto_rows": null,
            "grid_column": null,
            "grid_gap": null,
            "grid_row": null,
            "grid_template_areas": null,
            "grid_template_columns": null,
            "grid_template_rows": null,
            "height": null,
            "justify_content": null,
            "justify_items": null,
            "left": null,
            "margin": null,
            "max_height": null,
            "max_width": null,
            "min_height": null,
            "min_width": null,
            "object_fit": null,
            "object_position": null,
            "order": null,
            "overflow": null,
            "overflow_x": null,
            "overflow_y": null,
            "padding": null,
            "right": null,
            "top": null,
            "visibility": null,
            "width": null
          }
        },
        "99d89e3f340646f18702177628480a43": {
          "model_module": "@jupyter-widgets/base",
          "model_module_version": "1.2.0",
          "model_name": "LayoutModel",
          "state": {
            "_model_module": "@jupyter-widgets/base",
            "_model_module_version": "1.2.0",
            "_model_name": "LayoutModel",
            "_view_count": null,
            "_view_module": "@jupyter-widgets/base",
            "_view_module_version": "1.2.0",
            "_view_name": "LayoutView",
            "align_content": null,
            "align_items": null,
            "align_self": null,
            "border": null,
            "bottom": null,
            "display": null,
            "flex": null,
            "flex_flow": null,
            "grid_area": null,
            "grid_auto_columns": null,
            "grid_auto_flow": null,
            "grid_auto_rows": null,
            "grid_column": null,
            "grid_gap": null,
            "grid_row": null,
            "grid_template_areas": null,
            "grid_template_columns": null,
            "grid_template_rows": null,
            "height": null,
            "justify_content": null,
            "justify_items": null,
            "left": null,
            "margin": null,
            "max_height": null,
            "max_width": null,
            "min_height": null,
            "min_width": null,
            "object_fit": null,
            "object_position": null,
            "order": null,
            "overflow": null,
            "overflow_x": null,
            "overflow_y": null,
            "padding": null,
            "right": null,
            "top": null,
            "visibility": null,
            "width": null
          }
        },
        "9bb33a5c4b0c4e0f9a5383a6ffed3d0e": {
          "model_module": "@jupyter-widgets/base",
          "model_module_version": "1.2.0",
          "model_name": "LayoutModel",
          "state": {
            "_model_module": "@jupyter-widgets/base",
            "_model_module_version": "1.2.0",
            "_model_name": "LayoutModel",
            "_view_count": null,
            "_view_module": "@jupyter-widgets/base",
            "_view_module_version": "1.2.0",
            "_view_name": "LayoutView",
            "align_content": null,
            "align_items": null,
            "align_self": null,
            "border": null,
            "bottom": null,
            "display": null,
            "flex": null,
            "flex_flow": null,
            "grid_area": null,
            "grid_auto_columns": null,
            "grid_auto_flow": null,
            "grid_auto_rows": null,
            "grid_column": null,
            "grid_gap": null,
            "grid_row": null,
            "grid_template_areas": null,
            "grid_template_columns": null,
            "grid_template_rows": null,
            "height": null,
            "justify_content": null,
            "justify_items": null,
            "left": null,
            "margin": null,
            "max_height": null,
            "max_width": null,
            "min_height": null,
            "min_width": null,
            "object_fit": null,
            "object_position": null,
            "order": null,
            "overflow": null,
            "overflow_x": null,
            "overflow_y": null,
            "padding": null,
            "right": null,
            "top": null,
            "visibility": null,
            "width": null
          }
        },
        "9d25f30d85c041cfb015612d7da0b60c": {
          "model_module": "@jupyter-widgets/base",
          "model_module_version": "1.2.0",
          "model_name": "LayoutModel",
          "state": {
            "_model_module": "@jupyter-widgets/base",
            "_model_module_version": "1.2.0",
            "_model_name": "LayoutModel",
            "_view_count": null,
            "_view_module": "@jupyter-widgets/base",
            "_view_module_version": "1.2.0",
            "_view_name": "LayoutView",
            "align_content": null,
            "align_items": null,
            "align_self": null,
            "border": null,
            "bottom": null,
            "display": null,
            "flex": null,
            "flex_flow": null,
            "grid_area": null,
            "grid_auto_columns": null,
            "grid_auto_flow": null,
            "grid_auto_rows": null,
            "grid_column": null,
            "grid_gap": null,
            "grid_row": null,
            "grid_template_areas": null,
            "grid_template_columns": null,
            "grid_template_rows": null,
            "height": null,
            "justify_content": null,
            "justify_items": null,
            "left": null,
            "margin": null,
            "max_height": null,
            "max_width": null,
            "min_height": null,
            "min_width": null,
            "object_fit": null,
            "object_position": null,
            "order": null,
            "overflow": null,
            "overflow_x": null,
            "overflow_y": null,
            "padding": null,
            "right": null,
            "top": null,
            "visibility": null,
            "width": null
          }
        },
        "9e54314aaa254e4c905c7c7cdc5ec412": {
          "model_module": "@jupyter-widgets/controls",
          "model_module_version": "1.5.0",
          "model_name": "HBoxModel",
          "state": {
            "_dom_classes": [],
            "_model_module": "@jupyter-widgets/controls",
            "_model_module_version": "1.5.0",
            "_model_name": "HBoxModel",
            "_view_count": null,
            "_view_module": "@jupyter-widgets/controls",
            "_view_module_version": "1.5.0",
            "_view_name": "HBoxView",
            "box_style": "",
            "children": [
              "IPY_MODEL_a34693784c094fb19095c87b0e09084e",
              "IPY_MODEL_a4e22288ed394aa0bd4692b752e69fd5",
              "IPY_MODEL_dac7cee7859f449ebb989eff4deaac82"
            ],
            "layout": "IPY_MODEL_91bbfe6c6b7e445d8701bb1fcb35f1b3"
          }
        },
        "a34693784c094fb19095c87b0e09084e": {
          "model_module": "@jupyter-widgets/controls",
          "model_module_version": "1.5.0",
          "model_name": "HTMLModel",
          "state": {
            "_dom_classes": [],
            "_model_module": "@jupyter-widgets/controls",
            "_model_module_version": "1.5.0",
            "_model_name": "HTMLModel",
            "_view_count": null,
            "_view_module": "@jupyter-widgets/controls",
            "_view_module_version": "1.5.0",
            "_view_name": "HTMLView",
            "description": "",
            "description_tooltip": null,
            "layout": "IPY_MODEL_1482eedd66cd43aab3682cff94e478bb",
            "placeholder": "​",
            "style": "IPY_MODEL_cf7b6600f05d4ddd983adfda789f0940",
            "value": ""
          }
        },
        "a4e22288ed394aa0bd4692b752e69fd5": {
          "model_module": "@jupyter-widgets/controls",
          "model_module_version": "1.5.0",
          "model_name": "FloatProgressModel",
          "state": {
            "_dom_classes": [],
            "_model_module": "@jupyter-widgets/controls",
            "_model_module_version": "1.5.0",
            "_model_name": "FloatProgressModel",
            "_view_count": null,
            "_view_module": "@jupyter-widgets/controls",
            "_view_module_version": "1.5.0",
            "_view_name": "ProgressView",
            "bar_style": "success",
            "description": "",
            "description_tooltip": null,
            "layout": "IPY_MODEL_9bb33a5c4b0c4e0f9a5383a6ffed3d0e",
            "max": 4542,
            "min": 0,
            "orientation": "horizontal",
            "style": "IPY_MODEL_805c84619a60435ead820649d84d265d",
            "value": 4542
          }
        },
        "a60bad8744f645c5b8cdd4bda6157f8c": {
          "model_module": "@jupyter-widgets/controls",
          "model_module_version": "1.5.0",
          "model_name": "DescriptionStyleModel",
          "state": {
            "_model_module": "@jupyter-widgets/controls",
            "_model_module_version": "1.5.0",
            "_model_name": "DescriptionStyleModel",
            "_view_count": null,
            "_view_module": "@jupyter-widgets/base",
            "_view_module_version": "1.2.0",
            "_view_name": "StyleView",
            "description_width": ""
          }
        },
        "ab479c4c4e11468f852ba229db4e590d": {
          "model_module": "@jupyter-widgets/base",
          "model_module_version": "1.2.0",
          "model_name": "LayoutModel",
          "state": {
            "_model_module": "@jupyter-widgets/base",
            "_model_module_version": "1.2.0",
            "_model_name": "LayoutModel",
            "_view_count": null,
            "_view_module": "@jupyter-widgets/base",
            "_view_module_version": "1.2.0",
            "_view_name": "LayoutView",
            "align_content": null,
            "align_items": null,
            "align_self": null,
            "border": null,
            "bottom": null,
            "display": null,
            "flex": null,
            "flex_flow": null,
            "grid_area": null,
            "grid_auto_columns": null,
            "grid_auto_flow": null,
            "grid_auto_rows": null,
            "grid_column": null,
            "grid_gap": null,
            "grid_row": null,
            "grid_template_areas": null,
            "grid_template_columns": null,
            "grid_template_rows": null,
            "height": null,
            "justify_content": null,
            "justify_items": null,
            "left": null,
            "margin": null,
            "max_height": null,
            "max_width": null,
            "min_height": null,
            "min_width": null,
            "object_fit": null,
            "object_position": null,
            "order": null,
            "overflow": null,
            "overflow_x": null,
            "overflow_y": null,
            "padding": null,
            "right": null,
            "top": null,
            "visibility": null,
            "width": null
          }
        },
        "ae7abc5714c14ccca0ff15c948a09672": {
          "model_module": "@jupyter-widgets/controls",
          "model_module_version": "1.5.0",
          "model_name": "HBoxModel",
          "state": {
            "_dom_classes": [],
            "_model_module": "@jupyter-widgets/controls",
            "_model_module_version": "1.5.0",
            "_model_name": "HBoxModel",
            "_view_count": null,
            "_view_module": "@jupyter-widgets/controls",
            "_view_module_version": "1.5.0",
            "_view_name": "HBoxView",
            "box_style": "",
            "children": [
              "IPY_MODEL_e6b55a56fbba4944a577b70ece1caee2",
              "IPY_MODEL_71d2607fe8dd4e6bb73ddbaaf5ac7503",
              "IPY_MODEL_340a4a82524f43cc96cd0eb008c98eda"
            ],
            "layout": "IPY_MODEL_26ec4adac3514c8e901f653247395bcd"
          }
        },
        "b896b8d1fcbf48488f66b02e41630909": {
          "model_module": "@jupyter-widgets/controls",
          "model_module_version": "1.5.0",
          "model_name": "HBoxModel",
          "state": {
            "_dom_classes": [],
            "_model_module": "@jupyter-widgets/controls",
            "_model_module_version": "1.5.0",
            "_model_name": "HBoxModel",
            "_view_count": null,
            "_view_module": "@jupyter-widgets/controls",
            "_view_module_version": "1.5.0",
            "_view_name": "HBoxView",
            "box_style": "",
            "children": [
              "IPY_MODEL_7824d88c0ed74bd7bd4b2f5be38bb0f3",
              "IPY_MODEL_3039a047b5c14264b7cd32b6dd8af4e9",
              "IPY_MODEL_fff2f576b726494ab5fc0dbe24b9dabe"
            ],
            "layout": "IPY_MODEL_7c5bf3c81a694f85a09ba56e1485d261"
          }
        },
        "bfb15b6b6a9d4ce9a5d0d56660872a27": {
          "model_module": "@jupyter-widgets/controls",
          "model_module_version": "1.5.0",
          "model_name": "ProgressStyleModel",
          "state": {
            "_model_module": "@jupyter-widgets/controls",
            "_model_module_version": "1.5.0",
            "_model_name": "ProgressStyleModel",
            "_view_count": null,
            "_view_module": "@jupyter-widgets/base",
            "_view_module_version": "1.2.0",
            "_view_name": "StyleView",
            "bar_color": null,
            "description_width": ""
          }
        },
        "cbd94fe0995144c190230c1e9383387a": {
          "model_module": "@jupyter-widgets/controls",
          "model_module_version": "1.5.0",
          "model_name": "HBoxModel",
          "state": {
            "_dom_classes": [],
            "_model_module": "@jupyter-widgets/controls",
            "_model_module_version": "1.5.0",
            "_model_name": "HBoxModel",
            "_view_count": null,
            "_view_module": "@jupyter-widgets/controls",
            "_view_module_version": "1.5.0",
            "_view_name": "HBoxView",
            "box_style": "",
            "children": [
              "IPY_MODEL_faee9bc5fad64e6d99dc461f5bf22422",
              "IPY_MODEL_ff419fb13cd74987ae07005c9a8dd985",
              "IPY_MODEL_7a852cd45fa94b47a36dc037d75c1260"
            ],
            "layout": "IPY_MODEL_03ef03d2aba8467d91d6366c311a1c2d"
          }
        },
        "cf7b6600f05d4ddd983adfda789f0940": {
          "model_module": "@jupyter-widgets/controls",
          "model_module_version": "1.5.0",
          "model_name": "DescriptionStyleModel",
          "state": {
            "_model_module": "@jupyter-widgets/controls",
            "_model_module_version": "1.5.0",
            "_model_name": "DescriptionStyleModel",
            "_view_count": null,
            "_view_module": "@jupyter-widgets/base",
            "_view_module_version": "1.2.0",
            "_view_name": "StyleView",
            "description_width": ""
          }
        },
        "dac7cee7859f449ebb989eff4deaac82": {
          "model_module": "@jupyter-widgets/controls",
          "model_module_version": "1.5.0",
          "model_name": "HTMLModel",
          "state": {
            "_dom_classes": [],
            "_model_module": "@jupyter-widgets/controls",
            "_model_module_version": "1.5.0",
            "_model_name": "HTMLModel",
            "_view_count": null,
            "_view_module": "@jupyter-widgets/controls",
            "_view_module_version": "1.5.0",
            "_view_name": "HTMLView",
            "description": "",
            "description_tooltip": null,
            "layout": "IPY_MODEL_ab479c4c4e11468f852ba229db4e590d",
            "placeholder": "​",
            "style": "IPY_MODEL_693aca54261b4133bad8a7f74cf119ad",
            "value": " 5120/? [00:00&lt;00:00, 155504.33it/s]"
          }
        },
        "df5d24744c7242369c2e6e448a347276": {
          "model_module": "@jupyter-widgets/controls",
          "model_module_version": "1.5.0",
          "model_name": "DescriptionStyleModel",
          "state": {
            "_model_module": "@jupyter-widgets/controls",
            "_model_module_version": "1.5.0",
            "_model_name": "DescriptionStyleModel",
            "_view_count": null,
            "_view_module": "@jupyter-widgets/base",
            "_view_module_version": "1.2.0",
            "_view_name": "StyleView",
            "description_width": ""
          }
        },
        "e6b55a56fbba4944a577b70ece1caee2": {
          "model_module": "@jupyter-widgets/controls",
          "model_module_version": "1.5.0",
          "model_name": "HTMLModel",
          "state": {
            "_dom_classes": [],
            "_model_module": "@jupyter-widgets/controls",
            "_model_module_version": "1.5.0",
            "_model_name": "HTMLModel",
            "_view_count": null,
            "_view_module": "@jupyter-widgets/controls",
            "_view_module_version": "1.5.0",
            "_view_name": "HTMLView",
            "description": "",
            "description_tooltip": null,
            "layout": "IPY_MODEL_4f11f716c4e74ff3af1585204dc59817",
            "placeholder": "​",
            "style": "IPY_MODEL_2ebd6d5e1eb544b983e1136507b37a42",
            "value": ""
          }
        },
        "fa93c55e6abd41c79179fc2d05104704": {
          "model_module": "@jupyter-widgets/base",
          "model_module_version": "1.2.0",
          "model_name": "LayoutModel",
          "state": {
            "_model_module": "@jupyter-widgets/base",
            "_model_module_version": "1.2.0",
            "_model_name": "LayoutModel",
            "_view_count": null,
            "_view_module": "@jupyter-widgets/base",
            "_view_module_version": "1.2.0",
            "_view_name": "LayoutView",
            "align_content": null,
            "align_items": null,
            "align_self": null,
            "border": null,
            "bottom": null,
            "display": null,
            "flex": null,
            "flex_flow": null,
            "grid_area": null,
            "grid_auto_columns": null,
            "grid_auto_flow": null,
            "grid_auto_rows": null,
            "grid_column": null,
            "grid_gap": null,
            "grid_row": null,
            "grid_template_areas": null,
            "grid_template_columns": null,
            "grid_template_rows": null,
            "height": null,
            "justify_content": null,
            "justify_items": null,
            "left": null,
            "margin": null,
            "max_height": null,
            "max_width": null,
            "min_height": null,
            "min_width": null,
            "object_fit": null,
            "object_position": null,
            "order": null,
            "overflow": null,
            "overflow_x": null,
            "overflow_y": null,
            "padding": null,
            "right": null,
            "top": null,
            "visibility": null,
            "width": null
          }
        },
        "faee9bc5fad64e6d99dc461f5bf22422": {
          "model_module": "@jupyter-widgets/controls",
          "model_module_version": "1.5.0",
          "model_name": "HTMLModel",
          "state": {
            "_dom_classes": [],
            "_model_module": "@jupyter-widgets/controls",
            "_model_module_version": "1.5.0",
            "_model_name": "HTMLModel",
            "_view_count": null,
            "_view_module": "@jupyter-widgets/controls",
            "_view_module_version": "1.5.0",
            "_view_name": "HTMLView",
            "description": "",
            "description_tooltip": null,
            "layout": "IPY_MODEL_59e6a957589d4707b4f2c9bb881d6e7e",
            "placeholder": "​",
            "style": "IPY_MODEL_54806da05e294637b45c3877be73e4e2",
            "value": ""
          }
        },
        "fc6866b9af2945da84693052bdc40a08": {
          "model_module": "@jupyter-widgets/controls",
          "model_module_version": "1.5.0",
          "model_name": "ProgressStyleModel",
          "state": {
            "_model_module": "@jupyter-widgets/controls",
            "_model_module_version": "1.5.0",
            "_model_name": "ProgressStyleModel",
            "_view_count": null,
            "_view_module": "@jupyter-widgets/base",
            "_view_module_version": "1.2.0",
            "_view_name": "StyleView",
            "bar_color": null,
            "description_width": ""
          }
        },
        "ff419fb13cd74987ae07005c9a8dd985": {
          "model_module": "@jupyter-widgets/controls",
          "model_module_version": "1.5.0",
          "model_name": "FloatProgressModel",
          "state": {
            "_dom_classes": [],
            "_model_module": "@jupyter-widgets/controls",
            "_model_module_version": "1.5.0",
            "_model_name": "FloatProgressModel",
            "_view_count": null,
            "_view_module": "@jupyter-widgets/controls",
            "_view_module_version": "1.5.0",
            "_view_name": "ProgressView",
            "bar_style": "success",
            "description": "",
            "description_tooltip": null,
            "layout": "IPY_MODEL_778749c83d354aa99d85bb1abfbacc95",
            "max": 9912422,
            "min": 0,
            "orientation": "horizontal",
            "style": "IPY_MODEL_bfb15b6b6a9d4ce9a5d0d56660872a27",
            "value": 9912422
          }
        },
        "fff2f576b726494ab5fc0dbe24b9dabe": {
          "model_module": "@jupyter-widgets/controls",
          "model_module_version": "1.5.0",
          "model_name": "HTMLModel",
          "state": {
            "_dom_classes": [],
            "_model_module": "@jupyter-widgets/controls",
            "_model_module_version": "1.5.0",
            "_model_name": "HTMLModel",
            "_view_count": null,
            "_view_module": "@jupyter-widgets/controls",
            "_view_module_version": "1.5.0",
            "_view_name": "HTMLView",
            "description": "",
            "description_tooltip": null,
            "layout": "IPY_MODEL_fa93c55e6abd41c79179fc2d05104704",
            "placeholder": "​",
            "style": "IPY_MODEL_31ad66210cf54ce5a28241a3b8ee0064",
            "value": " 29696/? [00:00&lt;00:00, 572062.63it/s]"
          }
        }
      }
    }
  },
  "nbformat": 4,
  "nbformat_minor": 0
}